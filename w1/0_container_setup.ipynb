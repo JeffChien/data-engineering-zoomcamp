{
 "cells": [
  {
   "cell_type": "markdown",
   "metadata": {},
   "source": [
    "# Postgres & pgAdmin in docker\n",
    "\n",
    "we can simply run this command to setup services.\n",
    "```shell\n",
    "docker-compose up -d\n",
    "```\n",
    "\n",
    "or, manually run all the commands below."
   ]
  },
  {
   "cell_type": "markdown",
   "metadata": {},
   "source": [
    "Make pgAdmin and postgress run in the same container network"
   ]
  },
  {
   "cell_type": "code",
   "execution_count": 17,
   "metadata": {
    "vscode": {
     "languageId": "shellscript"
    }
   },
   "outputs": [
    {
     "name": "stdout",
     "output_type": "stream",
     "text": [
      "b82157ee28c2c8b54eb308fee3459891ffd27215db1a9758f452b0365d0969b9\n"
     ]
    }
   ],
   "source": [
    "%%bash\n",
    "docker network create pg-network"
   ]
  },
  {
   "cell_type": "markdown",
   "metadata": {},
   "source": [
    "Create volumes to store data."
   ]
  },
  {
   "cell_type": "code",
   "execution_count": 2,
   "metadata": {
    "vscode": {
     "languageId": "shellscript"
    }
   },
   "outputs": [
    {
     "name": "stdout",
     "output_type": "stream",
     "text": [
      "pg-volume\n",
      "pgadmin-volume\n"
     ]
    }
   ],
   "source": [
    "%%bash\n",
    "docker volume create pg-volume"
   ]
  },
  {
   "cell_type": "markdown",
   "metadata": {},
   "source": [
    "Running postgres with Docker (Taken from Airflow's environment)"
   ]
  },
  {
   "cell_type": "code",
   "execution_count": 18,
   "metadata": {
    "vscode": {
     "languageId": "shellscript"
    }
   },
   "outputs": [
    {
     "name": "stdout",
     "output_type": "stream",
     "text": [
      "e93d5be6ae72fd27e97464f3cfd120af258a87de0fc73631feacc8261ef03c41\n"
     ]
    }
   ],
   "source": [
    "%%bash\n",
    "docker run -d \\\n",
    "    -e POSTGRES_USER=\"root\" \\\n",
    "    -e POSTGRES_PASSWORD=\"root\" \\\n",
    "    -e POSTGRES_DB=\"ny_taxi\" \\\n",
    "    -p 5432:5432 \\\n",
    "    -v pg-volume:/var/lib/postgresql/data \\\n",
    "    --network=pg-network \\\n",
    "    --name pg-database \\\n",
    "    postgres:13"
   ]
  },
  {
   "cell_type": "code",
   "execution_count": 19,
   "metadata": {
    "vscode": {
     "languageId": "shellscript"
    }
   },
   "outputs": [
    {
     "name": "stdout",
     "output_type": "stream",
     "text": [
      "9481620ed0a50bafd50ba4750b42d84b2f6aaeaa20dbe5113207ca7a5246c4ee\n"
     ]
    }
   ],
   "source": [
    "%%bash\n",
    "docker run -d \\\n",
    "    -e PGADMIN_DEFAULT_EMAIL=\"admin@admin.com\" \\\n",
    "    -e PGADMIN_DEFAULT_PASSWORD=\"root\" \\\n",
    "    -p 8090:80 \\\n",
    "    -v pgadmin-volume \\\n",
    "    --network=pg-network \\\n",
    "    --name pgadmin-2 \\\n",
    "    dpage/pgadmin4"
   ]
  },
  {
   "cell_type": "markdown",
   "metadata": {},
   "source": [
    "Check postgres connection with pgcli\n",
    "\n",
    "can not make jupyter notebook to handle the password prompt, so use enviornment variable `PGPASSWORRD` instead, should avoid doing this in production environment."
   ]
  },
  {
   "cell_type": "code",
   "execution_count": 20,
   "metadata": {
    "vscode": {
     "languageId": "shellscript"
    }
   },
   "outputs": [
    {
     "name": "stderr",
     "output_type": "stream",
     "text": [
      "Warning: Input is not a terminal (fd=0).\n"
     ]
    },
    {
     "name": "stdout",
     "output_type": "stream",
     "text": [
      "Server: PostgreSQL 13.7 (Debian 13.7-1.pgdg110+1)\n",
      "Version: 3.4.1\n",
      "Home: http://pgcli.com\n",
      "root@localhost:ny_taxi>\n",
      "\n",
      "\n",
      "\n",
      "\n",
      "\n",
      " \n",
      "                        root@localhost:ny_taxi>                                 \n",
      "Goodbye!\n"
     ]
    }
   ],
   "source": [
    "%%bash\n",
    "PGPASSWORD=root pgcli -h localhost -p 5432 -u root -d ny_taxi"
   ]
  },
  {
   "cell_type": "markdown",
   "metadata": {},
   "source": [
    "# Command to remove containers and private network\n",
    "\n",
    "```shell\n",
    "docker stop pgadmin-2 pg-database\n",
    "docker rm pgadmin-2 pg-database\n",
    "docker network rm pg-network\n",
    "```"
   ]
  },
  {
   "cell_type": "code",
   "execution_count": 22,
   "metadata": {
    "vscode": {
     "languageId": "shellscript"
    }
   },
   "outputs": [
    {
     "name": "stdout",
     "output_type": "stream",
     "text": [
      "pgadmin-2\n",
      "pg-database\n",
      "pgadmin-2\n",
      "pg-database\n",
      "pg-network\n"
     ]
    }
   ],
   "source": []
  }
 ],
 "metadata": {
  "kernelspec": {
   "display_name": "Python 3.10.4 ('data-engineering-zoomcamp-qXYECzdi-py3.10')",
   "language": "python",
   "name": "python3"
  },
  "language_info": {
   "codemirror_mode": {
    "name": "ipython",
    "version": 3
   },
   "file_extension": ".py",
   "mimetype": "text/x-python",
   "name": "python",
   "nbconvert_exporter": "python",
   "pygments_lexer": "ipython3",
   "version": "3.10.4"
  },
  "orig_nbformat": 4,
  "vscode": {
   "interpreter": {
    "hash": "dd9ebce42fd8af0bcc1565d57e6707399fd50c068fb200e033da5ad5cd4c1478"
   }
  }
 },
 "nbformat": 4,
 "nbformat_minor": 2
}
