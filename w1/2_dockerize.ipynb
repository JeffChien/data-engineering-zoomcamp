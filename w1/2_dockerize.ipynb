{
 "cells": [
  {
   "cell_type": "markdown",
   "metadata": {},
   "source": [
    "# Dockerize python script"
   ]
  },
  {
   "cell_type": "code",
   "execution_count": 32,
   "metadata": {},
   "outputs": [
    {
     "name": "stdout",
     "output_type": "stream",
     "text": [
      "FROM python:3.9.1\n",
      "\n",
      "RUN pip install pandas sqlalchemy psycopg2 pyarrow click\n",
      "\n",
      "WORKDIR /app\n",
      "\n",
      "COPY ingest_data.py ingest_data.py\n",
      "\n",
      "ENTRYPOINT [\"python\", \"ingest_data.py\"]\n"
     ]
    }
   ],
   "source": [
    "!cat Dockerfile"
   ]
  },
  {
   "cell_type": "markdown",
   "metadata": {},
   "source": [
    "## Build image"
   ]
  },
  {
   "cell_type": "code",
   "execution_count": 34,
   "metadata": {
    "vscode": {
     "languageId": "shellscript"
    }
   },
   "outputs": [
    {
     "name": "stderr",
     "output_type": "stream",
     "text": [
      "#1 [internal] load build definition from Dockerfile\n",
      "#1 sha256:0f8eeccb28519879a9e140d3a87211664ebda45f8842334d310075fb9e332b96\n",
      "#1 transferring dockerfile: 37B done\n",
      "#1 DONE 0.0s\n",
      "\n",
      "#2 [internal] load .dockerignore\n",
      "#2 sha256:2726e747401ba9a8da8df9603d46d26ebb182c89c49ccd99b96ed71432ba8495\n",
      "#2 transferring context: 2B done\n",
      "#2 DONE 0.0s\n",
      "\n",
      "#3 [internal] load metadata for docker.io/library/python:3.9.1\n",
      "#3 sha256:6e70237454d389776a0cef864bdf16a54bd94289ecfbe59812c9e3efe82a176a\n",
      "#3 DONE 2.1s\n",
      "\n",
      "#4 [1/4] FROM docker.io/library/python:3.9.1@sha256:ca8bd3c91af8b12c2d042ade99f7c8f578a9f80a0dbbd12ed261eeba96dd632f\n",
      "#4 sha256:e58150efc854fa2c12932e62e715585dfd5255ff7f67947e3210c3ec6c229dcc\n",
      "#4 DONE 0.0s\n",
      "\n",
      "#7 [internal] load build context\n",
      "#7 sha256:fdd65ba4452a314455b0ff5eff151d964a02b04a4573201fd676d328af594203\n",
      "#7 transferring context: 36B done\n",
      "#7 DONE 0.0s\n",
      "\n",
      "#6 [3/4] WORKDIR /app\n",
      "#6 sha256:06ef885e655380eb2f27628b2bc46093f973bd781fafc37e23d2e4d01a37367b\n",
      "#6 CACHED\n",
      "\n",
      "#5 [2/4] RUN pip install pandas sqlalchemy psycopg2 pyarrow click\n",
      "#5 sha256:31dfe844292b909e978e7cacbfeaa8ab353004db18a06cdeb7e944949a3767dc\n",
      "#5 CACHED\n",
      "\n",
      "#8 [4/4] COPY ingest_data.py ingest_data.py\n",
      "#8 sha256:8e75be420c6a408db74f0a90377217aa92a5cb357b54c47eb032d433d9f077db\n",
      "#8 CACHED\n",
      "\n",
      "#9 exporting to image\n",
      "#9 sha256:e8c613e07b0b7ff33893b694f7759a10d42e180f2b4dc349fb57dc6b71dcab00\n",
      "#9 exporting layers done\n",
      "#9 writing image sha256:c3c7d7feabd29dd8caec3faf2487d6bcdc7c197e11977e30dc0db88dd6c03b8a done\n",
      "#9 naming to docker.io/library/taxi_ingest:v001 done\n",
      "#9 DONE 0.0s\n",
      "\n",
      "Use 'docker scan' to run Snyk tests against images to find vulnerabilities and learn how to fix them\n"
     ]
    }
   ],
   "source": [
    "%%bash\n",
    "\n",
    "docker build -t taxi_ingest:v001 ."
   ]
  },
  {
   "cell_type": "markdown",
   "metadata": {},
   "source": [
    "## Test it\n",
    "\n",
    "check [docker-compose.yml](./docker-compose.yml) for hostname"
   ]
  },
  {
   "cell_type": "code",
   "execution_count": 35,
   "metadata": {
    "vscode": {
     "languageId": "shellscript"
    }
   },
   "outputs": [],
   "source": [
    "%%bash\n",
    "\n",
    "docker run --rm \\\n",
    "    --network=pg-network \\\n",
    "    taxi_ingest:v001 \\\n",
    "    --user=root \\\n",
    "    --password=root \\\n",
    "    --host=pgdatabase \\\n",
    "    --port=5432 \\\n",
    "    --db=ny_taxi \\\n",
    "    --table=yellow_taxi_trips \\\n",
    "    'https://d37ci6vzurychx.cloudfront.net/trip-data/yellow_tripdata_2021-01.parquet'\n"
   ]
  }
 ],
 "metadata": {
  "kernelspec": {
   "display_name": "Python 3.10.4 ('data-engineering-zoomcamp-qXYECzdi-py3.10')",
   "language": "python",
   "name": "python3"
  },
  "language_info": {
   "codemirror_mode": {
    "name": "ipython",
    "version": 3
   },
   "file_extension": ".py",
   "mimetype": "text/x-python",
   "name": "python",
   "nbconvert_exporter": "python",
   "pygments_lexer": "ipython3",
   "version": "3.10.4"
  },
  "orig_nbformat": 4,
  "vscode": {
   "interpreter": {
    "hash": "dd9ebce42fd8af0bcc1565d57e6707399fd50c068fb200e033da5ad5cd4c1478"
   }
  }
 },
 "nbformat": 4,
 "nbformat_minor": 2
}
