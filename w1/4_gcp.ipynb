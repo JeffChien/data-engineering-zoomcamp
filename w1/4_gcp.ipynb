{
 "cells": [
  {
   "cell_type": "markdown",
   "metadata": {},
   "source": [
    "# GCP\n",
    "\n",
    "https://github.com/DataTalksClub/data-engineering-zoomcamp/blob/main/week_1_basics_n_setup/1_terraform_gcp/2_gcp_overview.md\n",
    "\n",
    "\n",
    "Install CLI tool https://cloud.google.com/sdk/docs/install\n",
    "\n",
    "unzip to where you want install, one possible location is under `~/.local/share/`.\n",
    "\n",
    "go to the install cloud cli directory, and run `./install.sh`"
   ]
  },
  {
   "cell_type": "markdown",
   "metadata": {},
   "source": [
    "## Create Srevice account\n",
    "\n",
    "under `IM & Admin -> Service Accounts`.\n",
    "\n",
    "create new account and json key, save it and execute the following to authenticate cli tool\n",
    "\n",
    "```\n",
    "export GOOGLE_APPLICATION_CREDENTIALS=\"<path/to/your/service-account-authkeys>.json\"\n",
    "\n",
    "# Refresh token/session, and verify authentication\n",
    "gcloud auth application-default login\n",
    "```"
   ]
  },
  {
   "cell_type": "markdown",
   "metadata": {},
   "source": [
    "## Grant service account priviledge\n",
    "\n",
    "In order to make Terraform to cast it's magic.\n",
    "\n",
    "in this course, we just simply to grant these permission.\n",
    "\n",
    "update the service account we just created, add these 3 permission\n",
    "\n",
    "Role\n",
    "- Storage Admin, allowing R/W create bucket.\n",
    "- Storage Object, allowing R/W create bucket.\n",
    "- BigQuery Admin\n",
    "\n",
    "in production environment, better to create a specific role in which there's minimum required permission associate to the account."
   ]
  },
  {
   "cell_type": "markdown",
   "metadata": {},
   "source": [
    "## Enable APIs for our project\n",
    "\n",
    "- https://console.cloud.google.com/apis/library/iam.googleapis.com\n",
    "- https://console.cloud.google.com/apis/library/iamcredentials.googleapis.com"
   ]
  }
 ],
 "metadata": {
  "kernelspec": {
   "display_name": "Python 3.10.4 ('data-engineering-zoomcamp-qXYECzdi-py3.10')",
   "language": "python",
   "name": "python3"
  },
  "language_info": {
   "codemirror_mode": {
    "name": "ipython",
    "version": 3
   },
   "file_extension": ".py",
   "mimetype": "text/x-python",
   "name": "python",
   "nbconvert_exporter": "python",
   "pygments_lexer": "ipython3",
   "version": "3.10.4"
  },
  "orig_nbformat": 4,
  "vscode": {
   "interpreter": {
    "hash": "dd9ebce42fd8af0bcc1565d57e6707399fd50c068fb200e033da5ad5cd4c1478"
   }
  }
 },
 "nbformat": 4,
 "nbformat_minor": 2
}
