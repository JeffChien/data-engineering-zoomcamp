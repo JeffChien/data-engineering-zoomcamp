{
 "cells": [
  {
   "cell_type": "markdown",
   "metadata": {},
   "source": [
    "# Terraform\n",
    "\n",
    "`.terraform-version` file, specify which version you want to use in the currenct workspace\n",
    "\n",
    "syntax\n",
    "- `terraform.backend`, where terraform stores its state data files.\n",
    "- `provider`, think it as platform terraform can manage.\n",
    "- `var.xxxxx`, variables,\n",
    "\n",
    "|         | non local | local        |\n",
    "| ------- | --------- | ------------ |\n",
    "| scope   | globall   | local module |\n",
    "| mutable | yes       | no           |\n",
    "\n",
    "\n"
   ]
  },
  {
   "cell_type": "markdown",
   "metadata": {},
   "source": [
    "## Commands\n",
    "\n",
    "- init\n",
    "- plan, showing what has changed in the configuration files.\n",
    "- apply, confirm changes.\n",
    "- destroy"
   ]
  },
  {
   "cell_type": "markdown",
   "metadata": {},
   "source": [
    "## Setup the environment\n",
    "\n",
    "copy all the files in the directory first\n",
    "- https://github.com/DataTalksClub/data-engineering-zoomcamp/tree/main/week_1_basics_n_setup/1_terraform_gcp/terraform\n",
    "\n",
    "run `terraform init`\n",
    "\n",
    "run `terranform plan` to see changes\n",
    "\n",
    "run `terraform apply` to confirm and make changes."
   ]
  },
  {
   "cell_type": "markdown",
   "metadata": {},
   "source": [
    "## Check\n",
    "\n",
    "in `Cloud Starge` page, should have anew bucket `dtc_data_<project_id>`\n",
    "\n",
    "in `Big Query` page, there's a table `trips_data_all`"
   ]
  }
 ],
 "metadata": {
  "kernelspec": {
   "display_name": "Python 3.10.4 ('data-engineering-zoomcamp-qXYECzdi-py3.10')",
   "language": "python",
   "name": "python3"
  },
  "language_info": {
   "name": "python",
   "version": "3.10.4"
  },
  "orig_nbformat": 4,
  "vscode": {
   "interpreter": {
    "hash": "dd9ebce42fd8af0bcc1565d57e6707399fd50c068fb200e033da5ad5cd4c1478"
   }
  }
 },
 "nbformat": 4,
 "nbformat_minor": 2
}
