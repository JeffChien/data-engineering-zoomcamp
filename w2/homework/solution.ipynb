{
 "cells": [
  {
   "cell_type": "markdown",
   "metadata": {},
   "source": [
    "## Question 1: Start date for the Yellow taxi data (1 point)\n",
    "\n",
    "You'll need to parametrize the DAG for processing the yellow taxi data that\n",
    "we created in the videos. \n",
    "\n",
    "What should be the start date for this dag?\n",
    "\n",
    "* 2019-01-01 \n",
    "* 2020-01-01\n",
    "* 2021-01-01\n",
    "* days_ago(1)"
   ]
  },
  {
   "cell_type": "markdown",
   "metadata": {},
   "source": [
    "Ans: 2019-01-01"
   ]
  },
  {
   "cell_type": "markdown",
   "metadata": {},
   "source": [
    "## Question 2: Frequency for the Yellow taxi data (1 point)\n",
    "\n",
    "How often do we need to run this DAG?\n",
    "\n",
    "* Daily\n",
    "* Monthly\n",
    "* Yearly\n",
    "* Once"
   ]
  },
  {
   "cell_type": "markdown",
   "metadata": {},
   "source": [
    "Ans: Monthly"
   ]
  },
  {
   "cell_type": "markdown",
   "metadata": {},
   "source": [
    "## Question 3: DAG for FHV Data (2 points)\n",
    "\n",
    "Now create another DAG - for uploading the FHV data. \n",
    "\n",
    "We will need three steps: \n",
    "\n",
    "* Download the data\n",
    "* Parquetize it \n",
    "* Upload to GCS\n",
    "\n",
    "If you don't have a GCP account, for local ingestion you'll need two steps:\n",
    "\n",
    "* Download the data\n",
    "* Ingest to Postgres\n",
    "\n",
    "Use the same frequency and the start date as for the yellow taxi dataset\n",
    "\n",
    "Question: how many DAG runs are green for data in 2019 after finishing everything? \n",
    "\n",
    "Note: when processing the data for 2020-01 you probably will get an error. It's up \n",
    "to you to decide what to do with it - for Week 3 homework we won't need 2020 data."
   ]
  },
  {
   "cell_type": "markdown",
   "metadata": {},
   "source": [
    "Ans: 12"
   ]
  },
  {
   "cell_type": "markdown",
   "metadata": {},
   "source": [
    "## Question 4: DAG for Zones (2 points)\n",
    "\n",
    "\n",
    "Create the final DAG - for Zones:\n",
    "\n",
    "* Download it\n",
    "* Parquetize \n",
    "* Upload to GCS\n",
    "\n",
    "(Or two steps for local ingestion: download -> ingest to postgres)\n",
    "\n",
    "How often does it need to run?\n",
    "\n",
    "* Daily\n",
    "* Monthly\n",
    "* Yearly\n",
    "* Once"
   ]
  },
  {
   "cell_type": "markdown",
   "metadata": {},
   "source": [
    "Ans: Once"
   ]
  }
 ],
 "metadata": {
  "kernelspec": {
   "display_name": "Python 3.9.13 ('data-engineering-zoomcamp-qXYECzdi-py3.9')",
   "language": "python",
   "name": "python3"
  },
  "language_info": {
   "codemirror_mode": {
    "name": "ipython",
    "version": 3
   },
   "file_extension": ".py",
   "mimetype": "text/x-python",
   "name": "python",
   "nbconvert_exporter": "python",
   "pygments_lexer": "ipython3",
   "version": "3.9.13"
  },
  "orig_nbformat": 4,
  "vscode": {
   "interpreter": {
    "hash": "e4f79fffaa52f26b4b81f6511eff08be4302fbbe2a33d33c03dd2fe71115635e"
   }
  }
 },
 "nbformat": 4,
 "nbformat_minor": 2
}
