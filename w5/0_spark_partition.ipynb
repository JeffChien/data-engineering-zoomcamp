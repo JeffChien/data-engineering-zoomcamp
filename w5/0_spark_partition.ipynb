{
 "cells": [
  {
   "cell_type": "code",
   "execution_count": 1,
   "metadata": {},
   "outputs": [],
   "source": [
    "import pyspark\n",
    "from pyspark.sql import SparkSession\n",
    "import pyarrow.parquet as pq\n",
    "from pyspark.sql import types"
   ]
  },
  {
   "cell_type": "code",
   "execution_count": 2,
   "metadata": {},
   "outputs": [
    {
     "name": "stderr",
     "output_type": "stream",
     "text": [
      "Setting default log level to \"WARN\".\n",
      "To adjust logging level use sc.setLogLevel(newLevel). For SparkR, use setLogLevel(newLevel).\n"
     ]
    },
    {
     "name": "stdout",
     "output_type": "stream",
     "text": [
      "22/08/04 16:20:07 WARN NativeCodeLoader: Unable to load native-hadoop library for your platform... using builtin-java classes where applicable\n"
     ]
    }
   ],
   "source": [
    "spark = SparkSession.builder \\\n",
    "    .master('local[*]') \\\n",
    "    .appName('test') \\\n",
    "    .getOrCreate()"
   ]
  },
  {
   "cell_type": "code",
   "execution_count": 3,
   "metadata": {},
   "outputs": [
    {
     "name": "stdout",
     "output_type": "stream",
     "text": [
      "  % Total    % Received % Xferd  Average Speed   Time    Time     Time  Current\n",
      "                                 Dload  Upload   Total   Spent    Left  Speed\n",
      "100  357M  100  357M    0     0  11.8M      0  0:00:30  0:00:30 --:--:-- 11.6M 10.7M      0  0:00:33  0:00:12  0:00:21 11.8M      0  0:00:32  0:00:13  0:00:19 11.8M1.8M      0  0:00:30  0:00:24  0:00:06 12.8M\n"
     ]
    }
   ],
   "source": [
    "!curl -O https://d37ci6vzurychx.cloudfront.net/trip-data/fhvhv_tripdata_2022-01.parquet"
   ]
  },
  {
   "cell_type": "code",
   "execution_count": 5,
   "metadata": {},
   "outputs": [],
   "source": [
    "pqfile = pq.ParquetFile('./fhvhv_tripdata_2022-01.parquet')"
   ]
  },
  {
   "cell_type": "code",
   "execution_count": 6,
   "metadata": {},
   "outputs": [],
   "source": [
    "df = next(pqfile.iter_batches(100)).to_pandas()"
   ]
  },
  {
   "cell_type": "code",
   "execution_count": 13,
   "metadata": {},
   "outputs": [],
   "source": [
    "schema = types.StructType([types.StructField('hvfhs_license_num', types.StringType(), True),\n",
    "    types.StructField('dispatching_base_num', types.StringType(), True),\n",
    "    types.StructField('originating_base_num', types.StringType(), True),\n",
    "    types.StructField('request_datetime', types.TimestampType(), True),\n",
    "    types.StructField('on_scene_datetime', types.TimestampType(), True),\n",
    "    types.StructField('pickup_datetime', types.TimestampType(), True),\n",
    "    types.StructField('dropoff_datetime', types.TimestampType(), True),\n",
    "    types.StructField('PULocationID', types.IntegerType(), True),\n",
    "    types.StructField('DOLocationID', types.IntegerType(), True),\n",
    "    types.StructField('trip_miles', types.DoubleType(), True),\n",
    "    types.StructField('trip_time', types.IntegerType(), True),\n",
    "    types.StructField('base_passenger_fare', types.DoubleType(), True),\n",
    "    types.StructField('tolls', types.DoubleType(), True),\n",
    "    types.StructField('bcf', types.DoubleType(), True),\n",
    "    types.StructField('sales_tax', types.DoubleType(), True),\n",
    "    types.StructField('congestion_surcharge', types.DoubleType(), True),\n",
    "    types.StructField('airport_fee', types.DoubleType(), True),\n",
    "    types.StructField('tips', types.DoubleType(), True),\n",
    "    types.StructField('driver_pay', types.DoubleType(), True),\n",
    "    types.StructField('shared_request_flag', types.StringType(), True),\n",
    "    types.StructField('shared_match_flag', types.StringType(), True),\n",
    "    types.StructField('access_a_ride_flag', types.StringType(), True),\n",
    "    types.StructField('wav_request_flag', types.StringType(), True),\n",
    "    types.StructField('wav_match_flag', types.StringType(), True)]\n",
    ")"
   ]
  },
  {
   "cell_type": "code",
   "execution_count": 21,
   "metadata": {},
   "outputs": [],
   "source": [
    "spark.conf.set('spark.sql.parquet.enableVectorizedReader', 'true')"
   ]
  },
  {
   "cell_type": "code",
   "execution_count": 24,
   "metadata": {},
   "outputs": [],
   "source": [
    "df = spark.read \\\n",
    "    .parquet('./fhvhv_tripdata_2022-01.parquet')"
   ]
  },
  {
   "cell_type": "code",
   "execution_count": 25,
   "metadata": {},
   "outputs": [
    {
     "data": {
      "text/plain": [
       "[Row(hvfhs_license_num='HV0003', dispatching_base_num='B03404', originating_base_num='B03404', request_datetime=datetime.datetime(2022, 1, 1, 8, 5, 31), on_scene_datetime=datetime.datetime(2022, 1, 1, 8, 5, 40), pickup_datetime=datetime.datetime(2022, 1, 1, 8, 7, 24), dropoff_datetime=datetime.datetime(2022, 1, 1, 8, 18, 28), PULocationID=170, DOLocationID=161, trip_miles=1.18, trip_time=664, base_passenger_fare=24.9, tolls=0.0, bcf=0.75, sales_tax=2.21, congestion_surcharge=2.75, airport_fee=0.0, tips=0.0, driver_pay=23.03, shared_request_flag='N', shared_match_flag='N', access_a_ride_flag=' ', wav_request_flag='N', wav_match_flag='N'),\n",
       " Row(hvfhs_license_num='HV0003', dispatching_base_num='B03404', originating_base_num='B03404', request_datetime=datetime.datetime(2022, 1, 1, 8, 19, 27), on_scene_datetime=datetime.datetime(2022, 1, 1, 8, 22, 8), pickup_datetime=datetime.datetime(2022, 1, 1, 8, 22, 32), dropoff_datetime=datetime.datetime(2022, 1, 1, 8, 30, 12), PULocationID=237, DOLocationID=161, trip_miles=0.82, trip_time=460, base_passenger_fare=11.97, tolls=0.0, bcf=0.36, sales_tax=1.06, congestion_surcharge=2.75, airport_fee=0.0, tips=0.0, driver_pay=12.32, shared_request_flag='N', shared_match_flag='N', access_a_ride_flag=' ', wav_request_flag='N', wav_match_flag='N'),\n",
       " Row(hvfhs_license_num='HV0003', dispatching_base_num='B03404', originating_base_num='B03404', request_datetime=datetime.datetime(2022, 1, 1, 8, 43, 53), on_scene_datetime=datetime.datetime(2022, 1, 1, 8, 57, 37), pickup_datetime=datetime.datetime(2022, 1, 1, 8, 57, 37), dropoff_datetime=datetime.datetime(2022, 1, 1, 9, 7, 32), PULocationID=237, DOLocationID=161, trip_miles=1.18, trip_time=595, base_passenger_fare=29.82, tolls=0.0, bcf=0.89, sales_tax=2.65, congestion_surcharge=2.75, airport_fee=0.0, tips=0.0, driver_pay=23.3, shared_request_flag='N', shared_match_flag='N', access_a_ride_flag=' ', wav_request_flag='N', wav_match_flag='N'),\n",
       " Row(hvfhs_license_num='HV0003', dispatching_base_num='B03404', originating_base_num='B03404', request_datetime=datetime.datetime(2022, 1, 1, 8, 15, 36), on_scene_datetime=datetime.datetime(2022, 1, 1, 8, 17, 8), pickup_datetime=datetime.datetime(2022, 1, 1, 8, 18, 2), dropoff_datetime=datetime.datetime(2022, 1, 1, 8, 23, 5), PULocationID=262, DOLocationID=229, trip_miles=1.65, trip_time=303, base_passenger_fare=7.91, tolls=0.0, bcf=0.24, sales_tax=0.7, congestion_surcharge=2.75, airport_fee=0.0, tips=0.0, driver_pay=6.3, shared_request_flag='N', shared_match_flag='N', access_a_ride_flag=' ', wav_request_flag='N', wav_match_flag='N'),\n",
       " Row(hvfhs_license_num='HV0003', dispatching_base_num='B03404', originating_base_num='B03404', request_datetime=datetime.datetime(2022, 1, 1, 8, 25, 45), on_scene_datetime=datetime.datetime(2022, 1, 1, 8, 26, 1), pickup_datetime=datetime.datetime(2022, 1, 1, 8, 28, 1), dropoff_datetime=datetime.datetime(2022, 1, 1, 8, 35, 42), PULocationID=229, DOLocationID=141, trip_miles=1.65, trip_time=461, base_passenger_fare=9.44, tolls=0.0, bcf=0.28, sales_tax=0.84, congestion_surcharge=2.75, airport_fee=0.0, tips=0.0, driver_pay=7.44, shared_request_flag='N', shared_match_flag='N', access_a_ride_flag=' ', wav_request_flag='N', wav_match_flag='N'),\n",
       " Row(hvfhs_license_num='HV0003', dispatching_base_num='B03404', originating_base_num='B03404', request_datetime=datetime.datetime(2022, 1, 1, 8, 34, 44), on_scene_datetime=datetime.datetime(2022, 1, 1, 8, 36, 52), pickup_datetime=datetime.datetime(2022, 1, 1, 8, 38, 50), dropoff_datetime=datetime.datetime(2022, 1, 1, 8, 51, 32), PULocationID=263, DOLocationID=79, trip_miles=4.51, trip_time=762, base_passenger_fare=17.67, tolls=0.0, bcf=0.53, sales_tax=1.57, congestion_surcharge=2.75, airport_fee=0.0, tips=0.0, driver_pay=12.25, shared_request_flag='N', shared_match_flag='N', access_a_ride_flag=' ', wav_request_flag='N', wav_match_flag='N'),\n",
       " Row(hvfhs_license_num='HV0003', dispatching_base_num='B03404', originating_base_num='B03404', request_datetime=datetime.datetime(2022, 1, 1, 8, 47, 51), on_scene_datetime=datetime.datetime(2022, 1, 1, 8, 52), pickup_datetime=datetime.datetime(2022, 1, 1, 8, 53, 25), dropoff_datetime=datetime.datetime(2022, 1, 1, 9, 8, 56), PULocationID=113, DOLocationID=140, trip_miles=3.68, trip_time=931, base_passenger_fare=16.68, tolls=0.0, bcf=0.5, sales_tax=1.48, congestion_surcharge=2.75, airport_fee=0.0, tips=0.0, driver_pay=12.75, shared_request_flag='N', shared_match_flag='N', access_a_ride_flag=' ', wav_request_flag='N', wav_match_flag='N'),\n",
       " Row(hvfhs_license_num='HV0003', dispatching_base_num='B03404', originating_base_num='B03404', request_datetime=datetime.datetime(2022, 1, 1, 8, 6, 21), on_scene_datetime=datetime.datetime(2022, 1, 1, 8, 6, 58), pickup_datetime=datetime.datetime(2022, 1, 1, 8, 8, 58), dropoff_datetime=datetime.datetime(2022, 1, 1, 8, 23, 1), PULocationID=151, DOLocationID=75, trip_miles=2.77, trip_time=843, base_passenger_fare=14.41, tolls=0.0, bcf=0.43, sales_tax=1.28, congestion_surcharge=0.0, airport_fee=0.0, tips=4.0, driver_pay=11.47, shared_request_flag='N', shared_match_flag='N', access_a_ride_flag=' ', wav_request_flag='N', wav_match_flag='N'),\n",
       " Row(hvfhs_license_num='HV0003', dispatching_base_num='B03404', originating_base_num='B03404', request_datetime=datetime.datetime(2022, 1, 1, 8, 27, 54), on_scene_datetime=datetime.datetime(2022, 1, 1, 8, 30, 26), pickup_datetime=datetime.datetime(2022, 1, 1, 8, 32, 25), dropoff_datetime=datetime.datetime(2022, 1, 1, 8, 44, 15), PULocationID=263, DOLocationID=229, trip_miles=2.04, trip_time=710, base_passenger_fare=10.64, tolls=0.0, bcf=0.32, sales_tax=0.94, congestion_surcharge=2.75, airport_fee=0.0, tips=0.0, driver_pay=9.55, shared_request_flag='N', shared_match_flag='N', access_a_ride_flag=' ', wav_request_flag='N', wav_match_flag='N'),\n",
       " Row(hvfhs_license_num='HV0003', dispatching_base_num='B03404', originating_base_num='B03404', request_datetime=datetime.datetime(2022, 1, 1, 8, 44, 59), on_scene_datetime=datetime.datetime(2022, 1, 1, 8, 48, 23), pickup_datetime=datetime.datetime(2022, 1, 1, 8, 50, 23), dropoff_datetime=datetime.datetime(2022, 1, 1, 9, 15, 30), PULocationID=237, DOLocationID=169, trip_miles=8.79, trip_time=1507, base_passenger_fare=107.56, tolls=0.0, bcf=0.83, sales_tax=2.45, congestion_surcharge=2.75, airport_fee=0.0, tips=0.0, driver_pay=23.67, shared_request_flag='N', shared_match_flag='N', access_a_ride_flag=' ', wav_request_flag='N', wav_match_flag='N')]"
      ]
     },
     "execution_count": 25,
     "metadata": {},
     "output_type": "execute_result"
    }
   ],
   "source": [
    "df.head(10)"
   ]
  },
  {
   "cell_type": "code",
   "execution_count": 27,
   "metadata": {},
   "outputs": [],
   "source": [
    "df = df.repartition(24)"
   ]
  },
  {
   "cell_type": "code",
   "execution_count": 28,
   "metadata": {},
   "outputs": [
    {
     "name": "stderr",
     "output_type": "stream",
     "text": [
      "[Stage 11:==================================================>       (7 + 1) / 8]\r"
     ]
    },
    {
     "name": "stdout",
     "output_type": "stream",
     "text": [
      "22/08/04 16:04:26 WARN MemoryManager: Total allocation exceeds 95.00% (1,020,054,720 bytes) of heap memory\n",
      "Scaling row group sizes to 95.00% for 8 writers\n"
     ]
    },
    {
     "name": "stderr",
     "output_type": "stream",
     "text": [
      "[Stage 13:=========>                                               (4 + 8) / 24]\r"
     ]
    },
    {
     "name": "stdout",
     "output_type": "stream",
     "text": [
      "22/08/04 16:04:31 WARN MemoryManager: Total allocation exceeds 95.00% (1,020,054,720 bytes) of heap memory\n",
      "Scaling row group sizes to 95.00% for 8 writers\n",
      "22/08/04 16:04:31 WARN MemoryManager: Total allocation exceeds 95.00% (1,020,054,720 bytes) of heap memory\n",
      "Scaling row group sizes to 95.00% for 8 writers\n"
     ]
    },
    {
     "name": "stderr",
     "output_type": "stream",
     "text": [
      "[Stage 13:=======================>                                (10 + 8) / 24]\r"
     ]
    },
    {
     "name": "stdout",
     "output_type": "stream",
     "text": [
      "22/08/04 16:04:34 WARN MemoryManager: Total allocation exceeds 95.00% (1,020,054,720 bytes) of heap memory\n",
      "Scaling row group sizes to 95.00% for 8 writers\n",
      "22/08/04 16:04:35 WARN MemoryManager: Total allocation exceeds 95.00% (1,020,054,720 bytes) of heap memory\n",
      "Scaling row group sizes to 95.00% for 8 writers\n",
      "22/08/04 16:04:35 WARN MemoryManager: Total allocation exceeds 95.00% (1,020,054,720 bytes) of heap memory\n",
      "Scaling row group sizes to 95.00% for 8 writers\n"
     ]
    },
    {
     "name": "stderr",
     "output_type": "stream",
     "text": [
      "[Stage 13:================================>                       (14 + 8) / 24]\r"
     ]
    },
    {
     "name": "stdout",
     "output_type": "stream",
     "text": [
      "22/08/04 16:04:35 WARN MemoryManager: Total allocation exceeds 95.00% (1,020,054,720 bytes) of heap memory\n",
      "Scaling row group sizes to 95.00% for 8 writers\n",
      "22/08/04 16:04:35 WARN MemoryManager: Total allocation exceeds 95.00% (1,020,054,720 bytes) of heap memory\n",
      "Scaling row group sizes to 95.00% for 8 writers\n"
     ]
    },
    {
     "name": "stderr",
     "output_type": "stream",
     "text": [
      "                                                                                \r"
     ]
    }
   ],
   "source": [
    "df.write.parquet('fhvhv/2022/01/')"
   ]
  },
  {
   "cell_type": "code",
   "execution_count": 29,
   "metadata": {},
   "outputs": [
    {
     "name": "stdout",
     "output_type": "stream",
     "text": [
      "total 1330176\n",
      "-rw-r--r--  1 jchien  staff     0B  8  4 16:04 _SUCCESS\n",
      "-rw-r--r--  1 jchien  staff    27M  8  4 16:04 part-00000-91d0087d-53f2-4b28-8919-871576adba84-c000.snappy.parquet\n",
      "-rw-r--r--  1 jchien  staff    27M  8  4 16:04 part-00001-91d0087d-53f2-4b28-8919-871576adba84-c000.snappy.parquet\n",
      "-rw-r--r--  1 jchien  staff    27M  8  4 16:04 part-00002-91d0087d-53f2-4b28-8919-871576adba84-c000.snappy.parquet\n",
      "-rw-r--r--  1 jchien  staff    27M  8  4 16:04 part-00003-91d0087d-53f2-4b28-8919-871576adba84-c000.snappy.parquet\n",
      "-rw-r--r--  1 jchien  staff    27M  8  4 16:04 part-00004-91d0087d-53f2-4b28-8919-871576adba84-c000.snappy.parquet\n",
      "-rw-r--r--  1 jchien  staff    27M  8  4 16:04 part-00005-91d0087d-53f2-4b28-8919-871576adba84-c000.snappy.parquet\n",
      "-rw-r--r--  1 jchien  staff    27M  8  4 16:04 part-00006-91d0087d-53f2-4b28-8919-871576adba84-c000.snappy.parquet\n",
      "-rw-r--r--  1 jchien  staff    27M  8  4 16:04 part-00007-91d0087d-53f2-4b28-8919-871576adba84-c000.snappy.parquet\n",
      "-rw-r--r--  1 jchien  staff    27M  8  4 16:04 part-00008-91d0087d-53f2-4b28-8919-871576adba84-c000.snappy.parquet\n",
      "-rw-r--r--  1 jchien  staff    27M  8  4 16:04 part-00009-91d0087d-53f2-4b28-8919-871576adba84-c000.snappy.parquet\n",
      "-rw-r--r--  1 jchien  staff    27M  8  4 16:04 part-00010-91d0087d-53f2-4b28-8919-871576adba84-c000.snappy.parquet\n",
      "-rw-r--r--  1 jchien  staff    27M  8  4 16:04 part-00011-91d0087d-53f2-4b28-8919-871576adba84-c000.snappy.parquet\n",
      "-rw-r--r--  1 jchien  staff    27M  8  4 16:04 part-00012-91d0087d-53f2-4b28-8919-871576adba84-c000.snappy.parquet\n",
      "-rw-r--r--  1 jchien  staff    27M  8  4 16:04 part-00013-91d0087d-53f2-4b28-8919-871576adba84-c000.snappy.parquet\n",
      "-rw-r--r--  1 jchien  staff    27M  8  4 16:04 part-00014-91d0087d-53f2-4b28-8919-871576adba84-c000.snappy.parquet\n",
      "-rw-r--r--  1 jchien  staff    27M  8  4 16:04 part-00015-91d0087d-53f2-4b28-8919-871576adba84-c000.snappy.parquet\n",
      "-rw-r--r--  1 jchien  staff    27M  8  4 16:04 part-00016-91d0087d-53f2-4b28-8919-871576adba84-c000.snappy.parquet\n",
      "-rw-r--r--  1 jchien  staff    27M  8  4 16:04 part-00017-91d0087d-53f2-4b28-8919-871576adba84-c000.snappy.parquet\n",
      "-rw-r--r--  1 jchien  staff    27M  8  4 16:04 part-00018-91d0087d-53f2-4b28-8919-871576adba84-c000.snappy.parquet\n",
      "-rw-r--r--  1 jchien  staff    27M  8  4 16:04 part-00019-91d0087d-53f2-4b28-8919-871576adba84-c000.snappy.parquet\n",
      "-rw-r--r--  1 jchien  staff    27M  8  4 16:04 part-00020-91d0087d-53f2-4b28-8919-871576adba84-c000.snappy.parquet\n",
      "-rw-r--r--  1 jchien  staff    27M  8  4 16:04 part-00021-91d0087d-53f2-4b28-8919-871576adba84-c000.snappy.parquet\n",
      "-rw-r--r--  1 jchien  staff    27M  8  4 16:04 part-00022-91d0087d-53f2-4b28-8919-871576adba84-c000.snappy.parquet\n",
      "-rw-r--r--  1 jchien  staff    27M  8  4 16:04 part-00023-91d0087d-53f2-4b28-8919-871576adba84-c000.snappy.parquet\n"
     ]
    }
   ],
   "source": [
    "!ls -lh fhvhv/2022/01"
   ]
  },
  {
   "cell_type": "markdown",
   "metadata": {},
   "source": [
    "## 2"
   ]
  },
  {
   "cell_type": "code",
   "execution_count": 3,
   "metadata": {},
   "outputs": [],
   "source": [
    "df = spark.read.parquet('./fhvhv/2022/01/')"
   ]
  },
  {
   "cell_type": "code",
   "execution_count": 4,
   "metadata": {},
   "outputs": [
    {
     "name": "stdout",
     "output_type": "stream",
     "text": [
      "root\n",
      " |-- hvfhs_license_num: string (nullable = true)\n",
      " |-- dispatching_base_num: string (nullable = true)\n",
      " |-- originating_base_num: string (nullable = true)\n",
      " |-- request_datetime: timestamp (nullable = true)\n",
      " |-- on_scene_datetime: timestamp (nullable = true)\n",
      " |-- pickup_datetime: timestamp (nullable = true)\n",
      " |-- dropoff_datetime: timestamp (nullable = true)\n",
      " |-- PULocationID: long (nullable = true)\n",
      " |-- DOLocationID: long (nullable = true)\n",
      " |-- trip_miles: double (nullable = true)\n",
      " |-- trip_time: long (nullable = true)\n",
      " |-- base_passenger_fare: double (nullable = true)\n",
      " |-- tolls: double (nullable = true)\n",
      " |-- bcf: double (nullable = true)\n",
      " |-- sales_tax: double (nullable = true)\n",
      " |-- congestion_surcharge: double (nullable = true)\n",
      " |-- airport_fee: double (nullable = true)\n",
      " |-- tips: double (nullable = true)\n",
      " |-- driver_pay: double (nullable = true)\n",
      " |-- shared_request_flag: string (nullable = true)\n",
      " |-- shared_match_flag: string (nullable = true)\n",
      " |-- access_a_ride_flag: string (nullable = true)\n",
      " |-- wav_request_flag: string (nullable = true)\n",
      " |-- wav_match_flag: string (nullable = true)\n",
      "\n"
     ]
    }
   ],
   "source": [
    "df.printSchema()"
   ]
  },
  {
   "cell_type": "code",
   "execution_count": 13,
   "metadata": {},
   "outputs": [
    {
     "name": "stdout",
     "output_type": "stream",
     "text": [
      "+-------------------+-------------------+------------+------------+\n",
      "|    pickup_datetime|   dropoff_datetime|PULocationID|DOLocationID|\n",
      "+-------------------+-------------------+------------+------------+\n",
      "|2022-01-13 21:08:25|2022-01-13 21:25:31|         162|         168|\n",
      "|2022-01-07 02:40:09|2022-01-07 02:54:41|         225|          17|\n",
      "|2022-01-03 05:50:27|2022-01-03 05:57:17|          90|         100|\n",
      "|2022-01-08 10:47:49|2022-01-08 11:02:23|         158|         233|\n",
      "|2022-01-30 11:07:55|2022-01-30 11:19:38|         148|         249|\n",
      "+-------------------+-------------------+------------+------------+\n",
      "only showing top 5 rows\n",
      "\n"
     ]
    }
   ],
   "source": [
    " df.select('pickup_datetime', 'dropoff_datetime', 'PULocationID', 'DOLocationID') \\\n",
    "    .filter(df.hvfhs_license_num == 'HV0003') \\\n",
    "    .show(5)"
   ]
  },
  {
   "cell_type": "code",
   "execution_count": 14,
   "metadata": {},
   "outputs": [],
   "source": [
    "from pyspark.sql import functions as F"
   ]
  },
  {
   "cell_type": "code",
   "execution_count": 17,
   "metadata": {},
   "outputs": [],
   "source": [
    "def crazy_stuff(base_num):\n",
    "    num = int(base_num[1:])\n",
    "    if num % 7 == 0:\n",
    "        return f's/{num:03x}'\n",
    "    elif num % 3 == 0:\n",
    "        return f'a/{num:03x}'\n",
    "    else:\n",
    "        return f'e/{num:03x}'\n",
    "\n",
    "crazy_stuff_udf = F.udf(crazy_stuff, returnType=types.StringType())"
   ]
  },
  {
   "cell_type": "code",
   "execution_count": 20,
   "metadata": {},
   "outputs": [
    {
     "name": "stdout",
     "output_type": "stream",
     "text": [
      "+-------+-----------+------------+------------+------------+\n",
      "|base_id|pickup_date|dropoff_date|PULocationID|DOLocationID|\n",
      "+-------+-----------+------------+------------+------------+\n",
      "|  e/d4c| 2022-01-13|  2022-01-13|         162|         168|\n",
      "|  e/d4c| 2022-01-07|  2022-01-07|         225|          17|\n",
      "|  e/d4c| 2022-01-03|  2022-01-03|          90|         100|\n",
      "|  e/d4c| 2022-01-08|  2022-01-08|         158|         233|\n",
      "|  e/d4c| 2022-01-30|  2022-01-30|         148|         249|\n",
      "|  e/d4c| 2022-02-01|  2022-02-01|          52|         255|\n",
      "|  e/d4c| 2022-02-01|  2022-02-01|         182|         242|\n",
      "|  e/d4e| 2022-01-16|  2022-01-16|         231|         249|\n",
      "|  e/d4e| 2022-01-01|  2022-01-01|         230|         164|\n",
      "|  e/d4c| 2022-01-05|  2022-01-05|          79|         162|\n",
      "|  e/d4c| 2022-01-05|  2022-01-05|         230|          13|\n",
      "|  e/d4e| 2022-01-17|  2022-01-17|          89|         211|\n",
      "|  e/d4e| 2022-01-02|  2022-01-02|          80|         188|\n",
      "|  e/d4c| 2022-01-05|  2022-01-05|         138|          17|\n",
      "|  e/d4c| 2022-02-01|  2022-02-01|         113|         236|\n",
      "|  e/d4c| 2022-01-20|  2022-01-20|          87|          42|\n",
      "|  e/d4c| 2022-01-09|  2022-01-09|          36|          82|\n",
      "|  e/d4c| 2022-01-26|  2022-01-26|         211|         198|\n",
      "|  e/d4e| 2022-01-05|  2022-01-05|          50|         239|\n",
      "|  e/d4c| 2022-01-06|  2022-01-06|         180|         216|\n",
      "+-------+-----------+------------+------------+------------+\n",
      "only showing top 20 rows\n",
      "\n"
     ]
    }
   ],
   "source": [
    "df \\\n",
    "    .withColumn('pickup_date', F.to_date(df.pickup_datetime)) \\\n",
    "    .withColumn('dropoff_date', F.to_date(df.dropoff_datetime)) \\\n",
    "    .withColumn('base_id', crazy_stuff_udf(df.dispatching_base_num)) \\\n",
    "    .select('base_id', 'pickup_date', 'dropoff_date', 'PULocationID', 'DOLocationID') \\\n",
    "    .show()"
   ]
  }
 ],
 "metadata": {
  "kernelspec": {
   "display_name": "Python 3.9.13 ('data-engineering-zoomcamp-qXYECzdi-py3.9')",
   "language": "python",
   "name": "python3"
  },
  "language_info": {
   "codemirror_mode": {
    "name": "ipython",
    "version": 3
   },
   "file_extension": ".py",
   "mimetype": "text/x-python",
   "name": "python",
   "nbconvert_exporter": "python",
   "pygments_lexer": "ipython3",
   "version": "3.9.13"
  },
  "orig_nbformat": 4,
  "vscode": {
   "interpreter": {
    "hash": "e4f79fffaa52f26b4b81f6511eff08be4302fbbe2a33d33c03dd2fe71115635e"
   }
  }
 },
 "nbformat": 4,
 "nbformat_minor": 2
}
