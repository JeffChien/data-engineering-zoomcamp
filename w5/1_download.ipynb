{
 "cells": [
  {
   "cell_type": "code",
   "execution_count": 1,
   "metadata": {},
   "outputs": [],
   "source": [
    "import requests\n",
    "import os"
   ]
  },
  {
   "cell_type": "code",
   "execution_count": 2,
   "metadata": {},
   "outputs": [],
   "source": [
    "colors = ['green', 'yellow']\n",
    "years = [2019, 2020]\n",
    "months = list(range(1, 13))"
   ]
  },
  {
   "cell_type": "code",
   "execution_count": 3,
   "metadata": {},
   "outputs": [],
   "source": [
    "def build_url(color, year, month):\n",
    "    return f'https://d37ci6vzurychx.cloudfront.net/trip-data/{color}_tripdata_{year}-{month:02d}.parquet'"
   ]
  },
  {
   "cell_type": "code",
   "execution_count": 4,
   "metadata": {},
   "outputs": [],
   "source": [
    "def download(colors, years, months):\n",
    "    tuples = [\n",
    "        (color, year, month) for color in colors for year in years for month in months\n",
    "    ]\n",
    "    for color, year, month in tuples:\n",
    "        url = build_url(color, year, month)\n",
    "        local_prefix = f'./buckets/data/raw/{color}/{year}/{month}'\n",
    "        local_file = f'{color}_tripdata_{year}_{month}.parquet'\n",
    "        local_path = f'{local_prefix}/{local_file}'\n",
    "        r = requests.get(url)\n",
    "        if not os.path.isdir(local_prefix):\n",
    "            os.makedirs(local_prefix)\n",
    "        with open(local_path, 'wb+') as f:\n",
    "            f.write(r.content)"
   ]
  },
  {
   "cell_type": "code",
   "execution_count": 5,
   "metadata": {},
   "outputs": [],
   "source": [
    "# download(colors, years, months)"
   ]
  },
  {
   "cell_type": "markdown",
   "metadata": {},
   "source": [
    "# Partitioning"
   ]
  },
  {
   "cell_type": "code",
   "execution_count": 135,
   "metadata": {},
   "outputs": [],
   "source": [
    "import pyspark\n",
    "from pyspark.sql import SparkSession\n",
    "from pyspark.sql import functions as F\n",
    "from pyspark.sql import types\n",
    "import math"
   ]
  },
  {
   "cell_type": "code",
   "execution_count": 136,
   "metadata": {},
   "outputs": [],
   "source": [
    "spark = (\n",
    "    SparkSession.builder\n",
    "        .master('local[*]')\n",
    "        .appName('test')\n",
    "        .config('spark.driver.cores', 3)\n",
    "        .config('spark.driver.memory', '2g')\n",
    "        .getOrCreate()\n",
    ")"
   ]
  },
  {
   "cell_type": "code",
   "execution_count": 246,
   "metadata": {},
   "outputs": [],
   "source": [
    "@F.udf(returnType=types.StringType())\n",
    "def get_payment_type_description(x):\n",
    "    if x:\n",
    "        return {\n",
    "            1: 'Credit card',\n",
    "            2: 'Cash',\n",
    "            3: 'No charge',\n",
    "            4: 'Dispute',\n",
    "            5: 'Unknown',\n",
    "            6: 'Voided trip'\n",
    "        }[int(x)]\n",
    "    return None"
   ]
  },
  {
   "cell_type": "code",
   "execution_count": 291,
   "metadata": {},
   "outputs": [],
   "source": [
    "def stg_green_tripdata(year, month):\n",
    "    df_raw = spark.read.parquet(f'buckets/data/raw/green/{year}/{month}')\n",
    "    df_raw = df_raw.toDF(*[c.lower() for c in df_raw.columns])\n",
    "    df_clean = df_raw.select(\n",
    "        F.hash('vendorid', 'lpep_pickup_datetime', 'lpep_dropoff_datetime').alias('tripid'),\n",
    "        F.col('vendorid').cast(types.IntegerType()).alias('vendorid'),\n",
    "        F.col('ratecodeid').cast(types.IntegerType()).alias('ratecodeid'),\n",
    "        F.col('pulocationid').cast(types.IntegerType()).alias('pickup_locationid'),\n",
    "        F.col('dolocationid').cast(types.IntegerType()).alias('dropoff_locationid'),\n",
    "\n",
    "        F.col('lpep_pickup_datetime').cast(types.TimestampType()).alias('pickup_datetime'),\n",
    "        F.col('lpep_dropoff_datetime').cast(types.TimestampType()).alias('dropoff_datetime'),\n",
    "\n",
    "        F.col('store_and_fwd_flag').cast(types.StringType()).alias('store_and_fwd_flag'),\n",
    "        F.col('passenger_count').cast(types.IntegerType()).alias('passenger_count'),\n",
    "        F.col('trip_distance').cast(types.DoubleType()).alias('trip_distance'),\n",
    "        F.col('trip_type').cast(types.IntegerType()).alias('trip_type'),\n",
    "\n",
    "        F.col('fare_amount').cast(types.DoubleType()).alias('fare_amount'),\n",
    "        F.col('extra').cast(types.DoubleType()).alias('extra'),\n",
    "        F.col('mta_tax').cast(types.DoubleType()).alias('mta_tax'),\n",
    "        F.col('tip_amount').cast(types.DoubleType()).alias('tip_amount'),\n",
    "\n",
    "        F.col('tolls_amount').cast(types.DoubleType()).alias('tolls_amount'),\n",
    "        F.col('ehail_fee').cast(types.DoubleType()).alias('ehail_fee'),\n",
    "        F.col('improvement_surcharge').cast(types.DoubleType()).alias('improvement_surcharge'),\n",
    "        F.col('total_amount').cast(types.DoubleType()).alias('total_amount'),\n",
    "        F.col('payment_type').cast(types.DoubleType()).alias('payment_type'),\n",
    "        get_payment_type_description(F.col('payment_type')).alias('payment_type_description'),\n",
    "\n",
    "        F.col('congestion_surcharge').cast(types.DoubleType()).alias('congestion_surcharge'),\n",
    "        F.lit('Green').alias('service_type'),\n",
    "    ).filter('vendorid is not null')\n",
    "    return df_clean"
   ]
  },
  {
   "cell_type": "code",
   "execution_count": 290,
   "metadata": {},
   "outputs": [],
   "source": [
    "def stg_yellow_tripdata(year, month):\n",
    "    df_raw = spark.read.parquet(f'buckets/data/raw/yellow/{year}/{month}')\n",
    "    df_raw = df_raw.toDF(*[c.lower() for c in df_raw.columns])\n",
    "    df_clean = df_raw.select(\n",
    "        F.hash('vendorid', 'tpep_pickup_datetime', 'tpep_dropoff_datetime').alias('tripid'),\n",
    "        F.col('vendorid').cast(types.IntegerType()).alias('vendorid'),\n",
    "        F.col('ratecodeid').cast(types.IntegerType()).alias('ratecodeid'),\n",
    "        F.col('pulocationid').cast(types.IntegerType()).alias('pickup_locationid'),\n",
    "        F.col('dolocationid').cast(types.IntegerType()).alias('dropoff_locationid'),\n",
    "\n",
    "        F.col('tpep_pickup_datetime').cast(types.TimestampType()).alias('pickup_datetime'),\n",
    "        F.col('tpep_dropoff_datetime').cast(types.TimestampType()).alias('dropoff_datetime'),\n",
    "\n",
    "        F.col('store_and_fwd_flag').cast(types.StringType()).alias('store_and_fwd_flag'),\n",
    "        F.col('passenger_count').cast(types.IntegerType()).alias('passenger_count'),\n",
    "        F.col('trip_distance').cast(types.DoubleType()).alias('trip_distance'),\n",
    "        F.lit(1).alias('trip_type'),\n",
    "\n",
    "        F.col('fare_amount').cast(types.DoubleType()).alias('fare_amount'),\n",
    "        F.col('extra').cast(types.DoubleType()).alias('extra'),\n",
    "        F.col('mta_tax').cast(types.DoubleType()).alias('mta_tax'),\n",
    "        F.col('tip_amount').cast(types.DoubleType()).alias('tip_amount'),\n",
    "\n",
    "        F.col('tolls_amount').cast(types.DoubleType()).alias('tolls_amount'),\n",
    "        F.lit(0.0).alias('ehail_fee'),\n",
    "        F.col('improvement_surcharge').cast(types.DoubleType()).alias('improvement_surcharge'),\n",
    "        F.col('total_amount').cast(types.DoubleType()).alias('total_amount'),\n",
    "        F.col('payment_type').cast(types.DoubleType()).alias('payment_type'),\n",
    "        get_payment_type_description(F.col('payment_type')).alias('payment_type_description'),\n",
    "\n",
    "        F.col('congestion_surcharge').cast(types.DoubleType()).alias('congestion_surcharge'),\n",
    "        F.lit('Yellow').alias('service_type'),\n",
    "    ).filter('vendorid is not null')\n",
    "    return df_clean"
   ]
  },
  {
   "cell_type": "code",
   "execution_count": 289,
   "metadata": {},
   "outputs": [],
   "source": [
    "def dim_zones():\n",
    "    df_zone = (\n",
    "        spark.read.csv('../data/taxi+_zone_lookup.csv', header='true')\n",
    "    )\n",
    "    return (df_zone\n",
    "        .withColumn('locationid', F.col('locationid').cast(types.IntegerType()))\n",
    "        .withColumn('service_zone', F.regexp_replace('service_zone', 'Boro', 'Green'))\n",
    "    ).filter(\"borough != 'Unknown'\")"
   ]
  },
  {
   "cell_type": "code",
   "execution_count": 288,
   "metadata": {},
   "outputs": [],
   "source": [
    "def fact_trips(yellow_df, green_df, zones_df):\n",
    "    df_trip_data = yellow_df.union(green_df)\n",
    "    df_trip_data.createOrReplaceTempView('trips_unioned')\n",
    "    zones_df.createOrReplaceTempView('dim_zones')\n",
    "    df_fact = spark.sql('''\n",
    "    select \n",
    "        trips_unioned.tripid, \n",
    "        trips_unioned.vendorid, \n",
    "        trips_unioned.service_type,\n",
    "        trips_unioned.ratecodeid, \n",
    "        trips_unioned.pickup_locationid, \n",
    "        pickup_zone.borough as pickup_borough, \n",
    "        pickup_zone.zone as pickup_zone, \n",
    "        trips_unioned.dropoff_locationid,\n",
    "        dropoff_zone.borough as dropoff_borough, \n",
    "        dropoff_zone.zone as dropoff_zone,  \n",
    "        trips_unioned.pickup_datetime, \n",
    "        trips_unioned.dropoff_datetime, \n",
    "        trips_unioned.store_and_fwd_flag, \n",
    "        trips_unioned.passenger_count, \n",
    "        trips_unioned.trip_distance, \n",
    "        trips_unioned.trip_type, \n",
    "        trips_unioned.fare_amount, \n",
    "        trips_unioned.extra, \n",
    "        trips_unioned.mta_tax, \n",
    "        trips_unioned.tip_amount, \n",
    "        trips_unioned.tolls_amount, \n",
    "        trips_unioned.ehail_fee, \n",
    "        trips_unioned.improvement_surcharge, \n",
    "        trips_unioned.total_amount, \n",
    "        trips_unioned.payment_type, \n",
    "        trips_unioned.payment_type_description, \n",
    "        trips_unioned.congestion_surcharge\n",
    "    from trips_unioned\n",
    "    join dim_zones as pickup_zone\n",
    "        on trips_unioned.pickup_locationid = pickup_zone.locationid\n",
    "    join dim_zones as dropoff_zone\n",
    "        on trips_unioned.dropoff_locationid = dropoff_zone.locationid\n",
    "    ''')\n",
    "    return df_fact"
   ]
  },
  {
   "cell_type": "code",
   "execution_count": 293,
   "metadata": {},
   "outputs": [],
   "source": [
    "def partition(years, months, n=10, mode='overwrite'):\n",
    "    tuples = [\n",
    "        (year, month) for year in years for month in months\n",
    "    ]\n",
    "    df_zones = dim_zones()\n",
    "    for year, month in tuples:\n",
    "        print(f'processing {year}/{month}')\n",
    "        output_path = f'buckets/data/fact/{year}/{month:02d}'\n",
    "\n",
    "        df_green = stg_green_tripdata(year, month)\n",
    "        df_yellow = stg_yellow_tripdata(year, month)\n",
    "        df_fact = fact_trips(df_yellow, df_green, df_zones)\n",
    "        df_fact.repartition(n).write.parquet(output_path, mode=mode)\n",
    "        print(f'done {year}/{month}')\n"
   ]
  },
  {
   "cell_type": "code",
   "execution_count": 294,
   "metadata": {},
   "outputs": [
    {
     "name": "stdout",
     "output_type": "stream",
     "text": [
      "processing 2019/1\n"
     ]
    },
    {
     "name": "stderr",
     "output_type": "stream",
     "text": [
      "[Stage 602:==================================================>    (10 + 1) / 11]\r"
     ]
    },
    {
     "name": "stdout",
     "output_type": "stream",
     "text": [
      "22/08/05 15:29:16 WARN MemoryManager: Total allocation exceeds 95.00% (1,020,054,720 bytes) of heap memory\n",
      "Scaling row group sizes to 95.00% for 8 writers\n"
     ]
    },
    {
     "name": "stderr",
     "output_type": "stream",
     "text": [
      "                                                                                \r"
     ]
    },
    {
     "name": "stdout",
     "output_type": "stream",
     "text": [
      "done 2019/1\n",
      "processing 2019/2\n"
     ]
    },
    {
     "name": "stderr",
     "output_type": "stream",
     "text": [
      "[Stage 608:==================================================>    (10 + 1) / 11]\r"
     ]
    },
    {
     "name": "stdout",
     "output_type": "stream",
     "text": [
      "22/08/05 15:30:11 WARN MemoryManager: Total allocation exceeds 95.00% (1,020,054,720 bytes) of heap memory\n",
      "Scaling row group sizes to 95.00% for 8 writers\n"
     ]
    },
    {
     "name": "stderr",
     "output_type": "stream",
     "text": [
      "                                                                                \r"
     ]
    },
    {
     "name": "stdout",
     "output_type": "stream",
     "text": [
      "done 2019/2\n",
      "processing 2019/3\n"
     ]
    },
    {
     "name": "stderr",
     "output_type": "stream",
     "text": [
      "[Stage 614:==================================================>    (10 + 1) / 11]\r"
     ]
    },
    {
     "name": "stdout",
     "output_type": "stream",
     "text": [
      "22/08/05 15:31:05 WARN MemoryManager: Total allocation exceeds 95.00% (1,020,054,720 bytes) of heap memory\n",
      "Scaling row group sizes to 95.00% for 8 writers\n"
     ]
    },
    {
     "name": "stderr",
     "output_type": "stream",
     "text": [
      "                                                                                \r"
     ]
    },
    {
     "name": "stdout",
     "output_type": "stream",
     "text": [
      "done 2019/3\n",
      "processing 2019/4\n"
     ]
    },
    {
     "name": "stderr",
     "output_type": "stream",
     "text": [
      "[Stage 620:==================================================>    (10 + 1) / 11]\r"
     ]
    },
    {
     "name": "stdout",
     "output_type": "stream",
     "text": [
      "22/08/05 15:32:00 WARN MemoryManager: Total allocation exceeds 95.00% (1,020,054,720 bytes) of heap memory\n",
      "Scaling row group sizes to 95.00% for 8 writers\n"
     ]
    },
    {
     "name": "stderr",
     "output_type": "stream",
     "text": [
      "                                                                                \r"
     ]
    },
    {
     "name": "stdout",
     "output_type": "stream",
     "text": [
      "done 2019/4\n",
      "processing 2019/5\n"
     ]
    },
    {
     "name": "stderr",
     "output_type": "stream",
     "text": [
      "[Stage 626:==================================================>    (10 + 1) / 11]\r"
     ]
    },
    {
     "name": "stdout",
     "output_type": "stream",
     "text": [
      "22/08/05 15:32:55 WARN MemoryManager: Total allocation exceeds 95.00% (1,020,054,720 bytes) of heap memory\n",
      "Scaling row group sizes to 95.00% for 8 writers\n"
     ]
    },
    {
     "name": "stderr",
     "output_type": "stream",
     "text": [
      "                                                                                \r"
     ]
    },
    {
     "name": "stdout",
     "output_type": "stream",
     "text": [
      "done 2019/5\n",
      "processing 2019/6\n"
     ]
    },
    {
     "name": "stderr",
     "output_type": "stream",
     "text": [
      "[Stage 632:==================================================>    (10 + 1) / 11]\r"
     ]
    },
    {
     "name": "stdout",
     "output_type": "stream",
     "text": [
      "22/08/05 15:33:46 WARN MemoryManager: Total allocation exceeds 95.00% (1,020,054,720 bytes) of heap memory\n",
      "Scaling row group sizes to 95.00% for 8 writers\n"
     ]
    },
    {
     "name": "stderr",
     "output_type": "stream",
     "text": [
      "                                                                                \r"
     ]
    },
    {
     "name": "stdout",
     "output_type": "stream",
     "text": [
      "done 2019/6\n",
      "processing 2019/7\n"
     ]
    },
    {
     "name": "stderr",
     "output_type": "stream",
     "text": [
      "[Stage 638:==================================================>     (9 + 1) / 10]\r"
     ]
    },
    {
     "name": "stdout",
     "output_type": "stream",
     "text": [
      "22/08/05 15:34:34 WARN MemoryManager: Total allocation exceeds 95.00% (1,020,054,720 bytes) of heap memory\n",
      "Scaling row group sizes to 95.00% for 8 writers\n"
     ]
    },
    {
     "name": "stderr",
     "output_type": "stream",
     "text": [
      "                                                                                \r"
     ]
    },
    {
     "name": "stdout",
     "output_type": "stream",
     "text": [
      "done 2019/7\n",
      "processing 2019/8\n"
     ]
    },
    {
     "name": "stderr",
     "output_type": "stream",
     "text": [
      "[Stage 646:>                                                       (0 + 8) / 10]\r"
     ]
    },
    {
     "name": "stdout",
     "output_type": "stream",
     "text": [
      "22/08/05 15:35:20 WARN MemoryManager: Total allocation exceeds 95.00% (1,020,054,720 bytes) of heap memory\n",
      "Scaling row group sizes to 95.00% for 8 writers\n"
     ]
    },
    {
     "name": "stderr",
     "output_type": "stream",
     "text": [
      "                                                                                \r"
     ]
    },
    {
     "name": "stdout",
     "output_type": "stream",
     "text": [
      "done 2019/8\n",
      "processing 2019/9\n"
     ]
    },
    {
     "name": "stderr",
     "output_type": "stream",
     "text": [
      "[Stage 652:>                                                       (0 + 8) / 10]\r"
     ]
    },
    {
     "name": "stdout",
     "output_type": "stream",
     "text": [
      "22/08/05 15:36:07 WARN MemoryManager: Total allocation exceeds 95.00% (1,020,054,720 bytes) of heap memory\n",
      "Scaling row group sizes to 95.00% for 8 writers\n"
     ]
    },
    {
     "name": "stderr",
     "output_type": "stream",
     "text": [
      "                                                                                \r"
     ]
    },
    {
     "name": "stdout",
     "output_type": "stream",
     "text": [
      "done 2019/9\n",
      "processing 2019/10\n"
     ]
    },
    {
     "name": "stderr",
     "output_type": "stream",
     "text": [
      "[Stage 658:>                                                       (0 + 8) / 10]\r"
     ]
    },
    {
     "name": "stdout",
     "output_type": "stream",
     "text": [
      "22/08/05 15:36:56 WARN MemoryManager: Total allocation exceeds 95.00% (1,020,054,720 bytes) of heap memory\n",
      "Scaling row group sizes to 95.00% for 8 writers\n"
     ]
    },
    {
     "name": "stderr",
     "output_type": "stream",
     "text": [
      "                                                                                \r"
     ]
    },
    {
     "name": "stdout",
     "output_type": "stream",
     "text": [
      "done 2019/10\n",
      "processing 2019/11\n"
     ]
    },
    {
     "name": "stderr",
     "output_type": "stream",
     "text": [
      "[Stage 664:>                                                       (0 + 8) / 10]\r"
     ]
    },
    {
     "name": "stdout",
     "output_type": "stream",
     "text": [
      "22/08/05 15:37:47 WARN MemoryManager: Total allocation exceeds 95.00% (1,020,054,720 bytes) of heap memory\n",
      "Scaling row group sizes to 95.00% for 8 writers\n"
     ]
    },
    {
     "name": "stderr",
     "output_type": "stream",
     "text": [
      "                                                                                \r"
     ]
    },
    {
     "name": "stdout",
     "output_type": "stream",
     "text": [
      "done 2019/11\n",
      "processing 2019/12\n"
     ]
    },
    {
     "name": "stderr",
     "output_type": "stream",
     "text": [
      "[Stage 670:>                                                       (0 + 8) / 10]\r"
     ]
    },
    {
     "name": "stdout",
     "output_type": "stream",
     "text": [
      "22/08/05 15:38:38 WARN MemoryManager: Total allocation exceeds 95.00% (1,020,054,720 bytes) of heap memory\n",
      "Scaling row group sizes to 95.00% for 8 writers\n"
     ]
    },
    {
     "name": "stderr",
     "output_type": "stream",
     "text": [
      "                                                                                \r"
     ]
    },
    {
     "name": "stdout",
     "output_type": "stream",
     "text": [
      "done 2019/12\n",
      "processing 2020/1\n"
     ]
    },
    {
     "name": "stderr",
     "output_type": "stream",
     "text": [
      "[Stage 676:>                                                       (0 + 8) / 10]\r"
     ]
    },
    {
     "name": "stdout",
     "output_type": "stream",
     "text": [
      "22/08/05 15:39:27 WARN MemoryManager: Total allocation exceeds 95.00% (1,020,054,720 bytes) of heap memory\n",
      "Scaling row group sizes to 95.00% for 8 writers\n"
     ]
    },
    {
     "name": "stderr",
     "output_type": "stream",
     "text": [
      "                                                                                \r"
     ]
    },
    {
     "name": "stdout",
     "output_type": "stream",
     "text": [
      "done 2020/1\n",
      "processing 2020/2\n"
     ]
    },
    {
     "name": "stderr",
     "output_type": "stream",
     "text": [
      "[Stage 680:==================================================>     (9 + 1) / 10]\r"
     ]
    },
    {
     "name": "stdout",
     "output_type": "stream",
     "text": [
      "22/08/05 15:40:14 WARN MemoryManager: Total allocation exceeds 95.00% (1,020,054,720 bytes) of heap memory\n",
      "Scaling row group sizes to 95.00% for 8 writers\n"
     ]
    },
    {
     "name": "stderr",
     "output_type": "stream",
     "text": [
      "                                                                                \r"
     ]
    },
    {
     "name": "stdout",
     "output_type": "stream",
     "text": [
      "done 2020/2\n",
      "processing 2020/3\n"
     ]
    },
    {
     "name": "stderr",
     "output_type": "stream",
     "text": [
      "[Stage 688:>                                                       (0 + 8) / 10]\r"
     ]
    },
    {
     "name": "stdout",
     "output_type": "stream",
     "text": [
      "22/08/05 15:40:48 WARN MemoryManager: Total allocation exceeds 95.00% (1,020,054,720 bytes) of heap memory\n",
      "Scaling row group sizes to 95.00% for 8 writers\n"
     ]
    },
    {
     "name": "stderr",
     "output_type": "stream",
     "text": [
      "                                                                                \r"
     ]
    },
    {
     "name": "stdout",
     "output_type": "stream",
     "text": [
      "done 2020/3\n",
      "processing 2020/4\n"
     ]
    },
    {
     "name": "stderr",
     "output_type": "stream",
     "text": [
      "[Stage 694:>                                                       (0 + 8) / 10]\r"
     ]
    },
    {
     "name": "stdout",
     "output_type": "stream",
     "text": [
      "22/08/05 15:41:04 WARN MemoryManager: Total allocation exceeds 95.00% (1,020,054,720 bytes) of heap memory\n",
      "Scaling row group sizes to 95.00% for 8 writers\n"
     ]
    },
    {
     "name": "stderr",
     "output_type": "stream",
     "text": [
      "                                                                                \r"
     ]
    },
    {
     "name": "stdout",
     "output_type": "stream",
     "text": [
      "done 2020/4\n",
      "processing 2020/5\n"
     ]
    },
    {
     "name": "stderr",
     "output_type": "stream",
     "text": [
      "[Stage 698:======================================>                  (2 + 1) / 3]\r"
     ]
    },
    {
     "name": "stdout",
     "output_type": "stream",
     "text": [
      "22/08/05 15:41:11 WARN MemoryManager: Total allocation exceeds 95.00% (1,020,054,720 bytes) of heap memory\n",
      "Scaling row group sizes to 95.00% for 8 writers\n"
     ]
    },
    {
     "name": "stderr",
     "output_type": "stream",
     "text": [
      "                                                                                \r"
     ]
    },
    {
     "name": "stdout",
     "output_type": "stream",
     "text": [
      "done 2020/5\n",
      "processing 2020/6\n"
     ]
    },
    {
     "name": "stderr",
     "output_type": "stream",
     "text": [
      "[Stage 704:==========================================>              (3 + 1) / 4]\r"
     ]
    },
    {
     "name": "stdout",
     "output_type": "stream",
     "text": [
      "22/08/05 15:41:19 WARN MemoryManager: Total allocation exceeds 95.00% (1,020,054,720 bytes) of heap memory\n",
      "Scaling row group sizes to 95.00% for 8 writers\n"
     ]
    },
    {
     "name": "stderr",
     "output_type": "stream",
     "text": [
      "                                                                                \r"
     ]
    },
    {
     "name": "stdout",
     "output_type": "stream",
     "text": [
      "done 2020/6\n",
      "processing 2020/7\n"
     ]
    },
    {
     "name": "stderr",
     "output_type": "stream",
     "text": [
      "[Stage 712:>                                                       (0 + 8) / 10]\r"
     ]
    },
    {
     "name": "stdout",
     "output_type": "stream",
     "text": [
      "22/08/05 15:41:28 WARN MemoryManager: Total allocation exceeds 95.00% (1,020,054,720 bytes) of heap memory\n",
      "Scaling row group sizes to 95.00% for 8 writers\n"
     ]
    },
    {
     "name": "stderr",
     "output_type": "stream",
     "text": [
      "                                                                                \r"
     ]
    },
    {
     "name": "stdout",
     "output_type": "stream",
     "text": [
      "done 2020/7\n",
      "processing 2020/8\n"
     ]
    },
    {
     "name": "stderr",
     "output_type": "stream",
     "text": [
      "[Stage 718:>                                                       (0 + 8) / 10]\r"
     ]
    },
    {
     "name": "stdout",
     "output_type": "stream",
     "text": [
      "22/08/05 15:41:39 WARN MemoryManager: Total allocation exceeds 95.00% (1,020,054,720 bytes) of heap memory\n",
      "Scaling row group sizes to 95.00% for 8 writers\n"
     ]
    },
    {
     "name": "stderr",
     "output_type": "stream",
     "text": [
      "                                                                                \r"
     ]
    },
    {
     "name": "stdout",
     "output_type": "stream",
     "text": [
      "done 2020/8\n",
      "processing 2020/9\n"
     ]
    },
    {
     "name": "stderr",
     "output_type": "stream",
     "text": [
      "[Stage 722:================================================>        (6 + 1) / 7]\r"
     ]
    },
    {
     "name": "stdout",
     "output_type": "stream",
     "text": [
      "22/08/05 15:41:52 WARN MemoryManager: Total allocation exceeds 95.00% (1,020,054,720 bytes) of heap memory\n",
      "Scaling row group sizes to 95.00% for 8 writers\n"
     ]
    },
    {
     "name": "stderr",
     "output_type": "stream",
     "text": [
      "                                                                                \r"
     ]
    },
    {
     "name": "stdout",
     "output_type": "stream",
     "text": [
      "done 2020/9\n",
      "processing 2020/10\n"
     ]
    },
    {
     "name": "stderr",
     "output_type": "stream",
     "text": [
      "[Stage 730:>                                                       (0 + 8) / 10]\r"
     ]
    },
    {
     "name": "stdout",
     "output_type": "stream",
     "text": [
      "22/08/05 15:42:08 WARN MemoryManager: Total allocation exceeds 95.00% (1,020,054,720 bytes) of heap memory\n",
      "Scaling row group sizes to 95.00% for 8 writers\n"
     ]
    },
    {
     "name": "stderr",
     "output_type": "stream",
     "text": [
      "                                                                                \r"
     ]
    },
    {
     "name": "stdout",
     "output_type": "stream",
     "text": [
      "done 2020/10\n",
      "processing 2020/11\n"
     ]
    },
    {
     "name": "stderr",
     "output_type": "stream",
     "text": [
      "[Stage 734:================================================>        (6 + 1) / 7]\r"
     ]
    },
    {
     "name": "stdout",
     "output_type": "stream",
     "text": [
      "22/08/05 15:42:23 WARN MemoryManager: Total allocation exceeds 95.00% (1,020,054,720 bytes) of heap memory\n",
      "Scaling row group sizes to 95.00% for 8 writers\n"
     ]
    },
    {
     "name": "stderr",
     "output_type": "stream",
     "text": [
      "                                                                                \r"
     ]
    },
    {
     "name": "stdout",
     "output_type": "stream",
     "text": [
      "done 2020/11\n",
      "processing 2020/12\n"
     ]
    },
    {
     "name": "stderr",
     "output_type": "stream",
     "text": [
      "[Stage 740:================================================>        (6 + 1) / 7]\r"
     ]
    },
    {
     "name": "stdout",
     "output_type": "stream",
     "text": [
      "22/08/05 15:42:37 WARN MemoryManager: Total allocation exceeds 95.00% (1,020,054,720 bytes) of heap memory\n",
      "Scaling row group sizes to 95.00% for 8 writers\n"
     ]
    },
    {
     "name": "stderr",
     "output_type": "stream",
     "text": [
      "                                                                                \r"
     ]
    },
    {
     "name": "stdout",
     "output_type": "stream",
     "text": [
      "done 2020/12\n"
     ]
    }
   ],
   "source": [
    "partition(years, months)"
   ]
  },
  {
   "cell_type": "code",
   "execution_count": 295,
   "metadata": {},
   "outputs": [],
   "source": [
    "spark.sparkContext.stop()"
   ]
  }
 ],
 "metadata": {
  "kernelspec": {
   "display_name": "Python 3.9.13 ('data-engineering-zoomcamp-qXYECzdi-py3.9')",
   "language": "python",
   "name": "python3"
  },
  "language_info": {
   "codemirror_mode": {
    "name": "ipython",
    "version": 3
   },
   "file_extension": ".py",
   "mimetype": "text/x-python",
   "name": "python",
   "nbconvert_exporter": "python",
   "pygments_lexer": "ipython3",
   "version": "3.9.13"
  },
  "orig_nbformat": 4,
  "vscode": {
   "interpreter": {
    "hash": "e4f79fffaa52f26b4b81f6511eff08be4302fbbe2a33d33c03dd2fe71115635e"
   }
  }
 },
 "nbformat": 4,
 "nbformat_minor": 2
}
